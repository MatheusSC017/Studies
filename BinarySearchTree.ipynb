{
  "nbformat": 4,
  "nbformat_minor": 0,
  "metadata": {
    "colab": {
      "provenance": [],
      "collapsed_sections": [
        "5ise1TBgJEXe"
      ],
      "authorship_tag": "ABX9TyPCKVGhFdkAgo1hnkslp6GJ",
      "include_colab_link": true
    },
    "kernelspec": {
      "name": "python3",
      "display_name": "Python 3"
    },
    "language_info": {
      "name": "python"
    }
  },
  "cells": [
    {
      "cell_type": "markdown",
      "metadata": {
        "id": "view-in-github",
        "colab_type": "text"
      },
      "source": [
        "<a href=\"https://colab.research.google.com/github/MatheusSC017/Studies/blob/main/BinarySearchTree.ipynb\" target=\"_parent\"><img src=\"https://colab.research.google.com/assets/colab-badge.svg\" alt=\"Open In Colab\"/></a>"
      ]
    },
    {
      "cell_type": "markdown",
      "source": [
        "# Library and Help Functions"
      ],
      "metadata": {
        "id": "FlQ3LrCOg2zG"
      }
    },
    {
      "cell_type": "code",
      "source": [
        "from time import perf_counter\n",
        "from random import randrange\n",
        "from networkx.drawing.nx_pydot import graphviz_layout\n",
        "import secrets\n",
        "import networkx as nx\n",
        "import matplotlib.pyplot as plt\n",
        "\n",
        "def time_spent_decorator(function):\n",
        "  def time_spent_calculation(*args, **kwargs):\n",
        "    start = perf_counter()\n",
        "    result = function(*args, **kwargs)\n",
        "    end = perf_counter()\n",
        "    total_time_spent = end - start\n",
        "    return (result, total_time_spent)\n",
        "  return time_spent_calculation"
      ],
      "metadata": {
        "id": "BmDNgrnwckCh"
      },
      "execution_count": 1,
      "outputs": []
    },
    {
      "cell_type": "markdown",
      "source": [
        "# Binary Tree With While"
      ],
      "metadata": {
        "id": "ii9cxr1agsOX"
      }
    },
    {
      "cell_type": "code",
      "source": [
        "class GFG:\n",
        "  def __init__(self):\n",
        "    self.bst = BST()\n",
        "\n",
        "  def insert(self, value):\n",
        "    self.bst.insert(value)\n",
        "  \n",
        "  def inorder(self):\n",
        "    self.bst.inorder()\n",
        "  \n",
        "  def search(self, value):\n",
        "    return self.bst.search(value)\n",
        "  \n",
        "  def delete(self, value):\n",
        "    self.bst.delete(value)\n",
        "\n",
        "class Node:\n",
        "  left_node = None\n",
        "  key = 0\n",
        "  right_node = None\n",
        "\n",
        "  def __init__(self, key):\n",
        "    self.key = key\n",
        "\n",
        "class BST:\n",
        "  root = None\n",
        "\n",
        "  def insert(self, value):\n",
        "    node = Node(value)\n",
        "    if self.root is None:\n",
        "      self.root = node\n",
        "      return\n",
        "    prev = None\n",
        "    temp = self.root\n",
        "    while temp is not None:\n",
        "      if temp.key < value:\n",
        "        prev = temp\n",
        "        temp = temp.right_node\n",
        "      elif temp.key > value:\n",
        "        prev = temp\n",
        "        temp = temp.left_node\n",
        "      else:\n",
        "        return\n",
        "    if prev.key < value:\n",
        "      prev.right_node = node\n",
        "    else:\n",
        "      prev.left_node = node\n",
        "\n",
        "  def inorder(self):\n",
        "    temp = self.root\n",
        "    stack = []\n",
        "    while temp is not None or len(stack) != 0:\n",
        "      if temp is not None:\n",
        "        stack.append(temp)\n",
        "        temp = temp.left_node\n",
        "      else:\n",
        "        temp = stack.pop()\n",
        "        print(temp.key, end=\" \")\n",
        "        temp =  temp.right_node\n",
        "\n",
        "  @time_spent_decorator\n",
        "  def search(self, value):\n",
        "    temp = self.root\n",
        "    while temp:\n",
        "      if temp.key == value:\n",
        "        return temp\n",
        "      elif temp.key < value:\n",
        "        temp = temp.right_node\n",
        "      else:\n",
        "        temp = temp.left_node\n",
        "    return temp\n",
        "  \n",
        "  def next_inorder_node(self, root):\n",
        "    temp = root\n",
        "    while temp.left_node is not None:\n",
        "      temp = temp.left_node\n",
        "    return temp.key\n",
        "\n",
        "  def delete(self, value):\n",
        "    prev = None\n",
        "    node = None\n",
        "    temp = self.root\n",
        "    while temp:\n",
        "      if temp.key < value:\n",
        "        prev, node = temp, 'right_node'\n",
        "        temp = temp.right_node\n",
        "\n",
        "      elif temp.key > value:\n",
        "        prev, node = temp, 'left_node'\n",
        "        temp = temp.left_node\n",
        "      \n",
        "      else:\n",
        "        if temp.right_node is None:\n",
        "          setattr(prev, node, temp.left_node)\n",
        "          return\n",
        "\n",
        "        if temp.left_node is None:\n",
        "          setattr(prev, node, temp.right_node)\n",
        "          return\n",
        "\n",
        "        next_node = self.next_inorder_node(temp.right_node) \n",
        "        if temp.key < next_node:\n",
        "          prev, node = temp, 'right_node'\n",
        "          temp = temp.right_node\n",
        "        else:\n",
        "          prev, node = temp, 'left_node'\n",
        "          temp = temp.left_node\n",
        "        value = next_node\n",
        "        prev.key = next_node"
      ],
      "metadata": {
        "id": "qblr8SBCg0Nl"
      },
      "execution_count": null,
      "outputs": []
    },
    {
      "cell_type": "code",
      "source": [
        "class ItemsList:\n",
        "  def __init__(self):\n",
        "    self.items = list()\n",
        "  \n",
        "  def append(self, value):\n",
        "    if not self.search(value)[0]:\n",
        "      self.items.append(value)\n",
        "  \n",
        "  @time_spent_decorator\n",
        "  def search(self, value):\n",
        "    for item in self.items:\n",
        "      if item == value:\n",
        "        return value\n",
        "    return None"
      ],
      "metadata": {
        "id": "GdObp63ZfI-A"
      },
      "execution_count": null,
      "outputs": []
    },
    {
      "cell_type": "markdown",
      "source": [
        "## Sorting a search tree"
      ],
      "metadata": {
        "id": "E_snlaugI-w_"
      }
    },
    {
      "cell_type": "code",
      "source": [
        "tree = GFG()\n",
        "tree.insert(50)\n",
        "values = list({randrange(0, 100) for _ in range(20)})\n",
        "for value in values:\n",
        "  tree.insert(value)\n",
        "print(\"Original list: \", values)\n",
        "values.sort()\n",
        "print(\"Ordered list: \", values)\n",
        "print(\"Ordered Tree: \", end=\"\")\n",
        "tree.inorder()"
      ],
      "metadata": {
        "colab": {
          "base_uri": "https://localhost:8080/"
        },
        "id": "yh0O2mOENSbV",
        "outputId": "d762ae54-cf6c-43ea-ff91-cae7f16a4829"
      },
      "execution_count": null,
      "outputs": [
        {
          "output_type": "stream",
          "name": "stdout",
          "text": [
            "Original list:  [32, 64, 34, 66, 73, 74, 41, 76, 15, 13, 78, 16, 50, 87, 23, 89, 29, 95]\n",
            "Ordered list:  [13, 15, 16, 23, 29, 32, 34, 41, 50, 64, 66, 73, 74, 76, 78, 87, 89, 95]\n",
            "Ordered Tree: 13 15 16 23 29 32 34 41 50 64 66 73 74 76 78 87 89 95 "
          ]
        }
      ]
    },
    {
      "cell_type": "markdown",
      "source": [
        "## Deleting a node"
      ],
      "metadata": {
        "id": "J7ubO1tkIyv_"
      }
    },
    {
      "cell_type": "code",
      "source": [
        "search_tree = GFG()\n",
        "search_tree.insert(44)\n",
        "search_tree.insert(17)\n",
        "search_tree.insert(15)\n",
        "search_tree.insert(32)\n",
        "search_tree.insert(28)\n",
        "search_tree.insert(33)\n",
        "search_tree.insert(25)\n",
        "search_tree.insert(30)\n",
        "search_tree.insert(29)\n",
        "search_tree.insert(88)\n",
        "search_tree.insert(65)\n",
        "search_tree.insert(97)\n",
        "search_tree.insert(95)\n",
        "search_tree.insert(99)\n",
        "search_tree.insert(54)\n",
        "search_tree.insert(82)\n",
        "search_tree.insert(52)\n",
        "search_tree.insert(63)\n",
        "search_tree.insert(76)\n",
        "search_tree.insert(86)\n",
        "search_tree.insert(73)\n",
        "search_tree.insert(80)\n",
        "search_tree.insert(81)\n",
        "search_tree.insert(78)\n",
        "search_tree.insert(77)\n",
        "search_tree.insert(79)\n",
        "\n",
        "print(\"Inorder traversal of the given tree\")\n",
        "search_tree.inorder()\n",
        "print(\"\\nDelete\")\n",
        "search_tree.delete(76)\n",
        "print(\"Inorder traversal of the modified tree\")\n",
        "search_tree.inorder()"
      ],
      "metadata": {
        "colab": {
          "base_uri": "https://localhost:8080/"
        },
        "id": "lWpuH5YMHiU1",
        "outputId": "6600c965-8ead-4710-dd5d-7619e0563ed8"
      },
      "execution_count": null,
      "outputs": [
        {
          "output_type": "stream",
          "name": "stdout",
          "text": [
            "Inorder traversal of the given tree\n",
            "15 17 25 28 29 30 32 33 44 52 54 63 65 73 76 77 78 79 80 81 82 86 88 95 97 99 \n",
            "Delete\n",
            "Inorder traversal of the modified tree\n",
            "15 17 25 28 29 30 32 33 44 52 54 63 65 73 77 78 79 80 81 82 86 88 95 97 99 "
          ]
        }
      ]
    },
    {
      "cell_type": "markdown",
      "source": [
        "## Comparing running time"
      ],
      "metadata": {
        "id": "pQcQwyGmIw24"
      }
    },
    {
      "cell_type": "code",
      "source": [
        "search_tree = GFG()\n",
        "list_of_items = ItemsList()\n",
        "search_tree.insert(500)\n",
        "list_of_items.append(500)"
      ],
      "metadata": {
        "id": "rSNVcNZ9n9HM"
      },
      "execution_count": null,
      "outputs": []
    },
    {
      "cell_type": "code",
      "source": [
        "values = set([randrange(0, 5000) for _ in range(200)])\n",
        "for value in values:\n",
        "  search_tree.insert(value)\n",
        "  list_of_items.append(value)"
      ],
      "metadata": {
        "id": "C1CCUbG7oMU7"
      },
      "execution_count": null,
      "outputs": []
    },
    {
      "cell_type": "code",
      "source": [
        "list_total_time = 0\n",
        "tree_total_time = 0\n",
        "for _ in range(200):\n",
        "  value = randrange(0, 5000)\n",
        "  response_list = list_of_items.search(value)\n",
        "  response_tree = search_tree.search(value)\n",
        "  if response_list[0] != getattr(response_tree[0], 'key', None):\n",
        "    print(f'Error for value {value}: {response_list} != {response_tree}')\n",
        "    break\n",
        "  else:\n",
        "    list_total_time += response_list[1]\n",
        "    tree_total_time += response_tree[1]\n",
        "print(tree_total_time / list_total_time)"
      ],
      "metadata": {
        "colab": {
          "base_uri": "https://localhost:8080/"
        },
        "id": "pXIxCn81oddB",
        "outputId": "878599ba-a902-4a52-9d6f-17f40bfb0a10"
      },
      "execution_count": null,
      "outputs": [
        {
          "output_type": "stream",
          "name": "stdout",
          "text": [
            "0.3563779986005244\n"
          ]
        }
      ]
    },
    {
      "cell_type": "markdown",
      "source": [
        "# Binary Tree With Recursion"
      ],
      "metadata": {
        "id": "lLwzCwICp_Wm"
      }
    },
    {
      "cell_type": "code",
      "execution_count": 13,
      "metadata": {
        "id": "g7p_bK4Xh2nj"
      },
      "outputs": [],
      "source": [
        "class Node:\n",
        "  left_node = None\n",
        "  key = 0\n",
        "  right_node = None\n",
        "\n",
        "  def __init__(self, key):\n",
        "    self.key = key\n",
        "\n",
        "def insert(root, new_value):\n",
        "  if root is None:\n",
        "    return Node(new_value)\n",
        "  else: \n",
        "    if root.key == new_value:\n",
        "      return root\n",
        "    elif root.key < new_value:\n",
        "      root.right_node = insert(root.right_node, new_value)\n",
        "    else:\n",
        "      root.left_node = insert(root.left_node, new_value)\n",
        "  return root\n",
        "\n",
        "def search(root, value):\n",
        "  if root is None or root.key == value:\n",
        "    return root\n",
        "  elif root.key < value:\n",
        "    return search(root.right_node, value)\n",
        "  else:\n",
        "    return search(root.left_node, value)\n",
        "\n",
        "def inorder(root):\n",
        "  if root:\n",
        "    yield from inorder(root.left_node)\n",
        "    yield root.key\n",
        "    yield from inorder(root.right_node)\n",
        "\n",
        "def preorder(root):\n",
        "  if root:\n",
        "    yield root.key\n",
        "    yield from preorder(root.left_node)\n",
        "    yield from preorder(root.right_node)\n",
        "\n",
        "def postorder(root):\n",
        "  if root:\n",
        "    yield from preorder(root.left_node)\n",
        "    yield from preorder(root.right_node)\n",
        "    yield root.key\n",
        "\n",
        "def min(root):\n",
        "  if root.left_node:\n",
        "    return min(root.left_node)\n",
        "  return root.key\n",
        "\n",
        "def delete(root, value):\n",
        "  if root is None:\n",
        "    return root\n",
        "\n",
        "  if root.key < value:\n",
        "    root.right_node = delete(root.right_node, value)\n",
        "\n",
        "  elif root.key > value:\n",
        "    root.left_node = delete(root.left_node, value)\n",
        "\n",
        "  else:\n",
        "    if root.left_node is None:\n",
        "      return root.right_node\n",
        "    \n",
        "    if root.right_node is None:\n",
        "      return root.left_node\n",
        "\n",
        "    inorder_value = min(root.right_node)\n",
        "    root.key = inorder_value\n",
        "    root.right_node = delete(root.right_node, inorder_value)\n",
        "\n",
        "  return root\n",
        "\n",
        "def print_tree(root):\n",
        "  def print_node(root, prev=None, color=None):\n",
        "    if root:\n",
        "      G.add_node(root.key)\n",
        "      if prev:\n",
        "        G.add_edge(prev, root.key, color=color)\n",
        "      print_node(root.left_node, root.key, '#00FF00')\n",
        "      print_node(root.right_node, root.key, '#FF0000')\n",
        "  G = nx.Graph()\n",
        "  print_node(root)\n",
        "  pos = graphviz_layout(G, prog='dot')\n",
        "  colors = [G[u][v]['color'] for u,v in G.edges()]\n",
        "  nx.draw(G, pos, with_labels=True, node_size=1000, edge_color=colors)\n",
        "  plt.show()"
      ]
    },
    {
      "cell_type": "markdown",
      "source": [
        "## Sorting a search tree"
      ],
      "metadata": {
        "id": "v_J9CB_2JJkO"
      }
    },
    {
      "cell_type": "code",
      "source": [
        "search_tree = Node(44)\n",
        "# values = list({randrange(0, 100) for _ in range(20)})\n",
        "values = [17, 15, 32, 28, 33, 25, 30, 29, 88, 65, 97, 95, 99, 54, 82, 52, \n",
        "          63, 76, 86, 73, 80, 81, 78, 77, 79]\n",
        "for value in values:\n",
        "  insert(search_tree, value)\n",
        "new_values = [50, ]\n",
        "new_values.extend(values)\n",
        "inorder_tree = list(inorder(search_tree))\n",
        "print(\"Original list: \", new_values)\n",
        "print(\"Ordered list: \", sorted(new_values))\n",
        "print(\"Ordered Tree: \", inorder_tree)"
      ],
      "metadata": {
        "colab": {
          "base_uri": "https://localhost:8080/"
        },
        "id": "TfxEhKZJ-j2r",
        "outputId": "71e3a83e-ca57-46db-bbdc-546071d0501e"
      },
      "execution_count": 12,
      "outputs": [
        {
          "output_type": "stream",
          "name": "stdout",
          "text": [
            "Original list:  [50, 17, 15, 32, 28, 33, 25, 30, 29, 88, 65, 97, 95, 99, 54, 82, 52, 63, 76, 86, 73, 80, 81, 78, 77, 79]\n",
            "Ordered list:  [15, 17, 25, 28, 29, 30, 32, 33, 50, 52, 54, 63, 65, 73, 76, 77, 78, 79, 80, 81, 82, 86, 88, 95, 97, 99]\n",
            "Ordered Tree:  [15, 17, 25, 28, 29, 30, 32, 33, 44, 52, 54, 63, 65, 73, 76, 77, 78, 79, 80, 81, 82, 86, 88, 95, 97, 99]\n"
          ]
        }
      ]
    },
    {
      "cell_type": "code",
      "source": [
        "preorder_tree = list(preorder(search_tree))\n",
        "print(\"Original list: \", new_values)\n",
        "print(\"Ordered Tree: \", preorder_tree)"
      ],
      "metadata": {
        "colab": {
          "base_uri": "https://localhost:8080/"
        },
        "id": "CO0ZEEqIkhro",
        "outputId": "1521e434-1ff4-4f21-e4e8-dd35d575f93e"
      },
      "execution_count": 15,
      "outputs": [
        {
          "output_type": "stream",
          "name": "stdout",
          "text": [
            "Original list:  [50, 17, 15, 32, 28, 33, 25, 30, 29, 88, 65, 97, 95, 99, 54, 82, 52, 63, 76, 86, 73, 80, 81, 78, 77, 79]\n",
            "Ordered Tree:  [44, 17, 15, 32, 28, 25, 30, 29, 33, 88, 65, 54, 52, 63, 82, 76, 73, 80, 78, 77, 79, 81, 86, 97, 95, 99]\n"
          ]
        }
      ]
    },
    {
      "cell_type": "code",
      "source": [
        "postorder_tree = list(postorder(search_tree))\n",
        "print(\"Original list: \", new_values)\n",
        "print(\"Ordered Tree: \", postorder_tree)"
      ],
      "metadata": {
        "colab": {
          "base_uri": "https://localhost:8080/"
        },
        "id": "9ctY0s9TDOp_",
        "outputId": "207d451a-9b98-4303-dbc6-8f7d6cf04e88"
      },
      "execution_count": 14,
      "outputs": [
        {
          "output_type": "stream",
          "name": "stdout",
          "text": [
            "Original list:  [50, 17, 15, 32, 28, 33, 25, 30, 29, 88, 65, 97, 95, 99, 54, 82, 52, 63, 76, 86, 73, 80, 81, 78, 77, 79]\n",
            "Ordered Tree:  [17, 15, 32, 28, 25, 30, 29, 33, 88, 65, 54, 52, 63, 82, 76, 73, 80, 78, 77, 79, 81, 86, 97, 95, 99, 44]\n"
          ]
        }
      ]
    },
    {
      "cell_type": "code",
      "source": [
        "print_tree(search_tree)"
      ],
      "metadata": {
        "id": "ljWkvh94LtVp",
        "colab": {
          "base_uri": "https://localhost:8080/",
          "height": 319
        },
        "outputId": "c0e39aec-23a8-4fc6-b4fc-37ffdc8ad6bf"
      },
      "execution_count": 16,
      "outputs": [
        {
          "output_type": "display_data",
          "data": {
            "text/plain": [
              "<Figure size 432x288 with 1 Axes>"
            ],
            "image/png": "[encoded data removed]"
          },
          "metadata": {}
        }
      ]
    },
    {
      "cell_type": "markdown",
      "source": [
        "## Deleting a node"
      ],
      "metadata": {
        "id": "5ise1TBgJEXe"
      }
    },
    {
      "cell_type": "code",
      "source": [
        "search_tree = Node(12)\n",
        "search_tree = insert(search_tree, 15)\n",
        "search_tree = insert(search_tree, 7)\n",
        "search_tree = insert(search_tree, 12)\n",
        "search_tree = insert(search_tree, 5)\n",
        "search_tree = insert(search_tree, 18)\n",
        "search_tree = insert(search_tree, 22)\n",
        "search_tree = insert(search_tree, 6)\n",
        "search_tree = insert(search_tree, 10)\n",
        "search_tree = insert(search_tree, 13)\n",
        "\n",
        "print(\"Inorder traversal of the given tree\")\n",
        "inorder(search_tree)\n",
        "print_tree(search_tree)\n",
        "print(\"\\nDelete\")\n",
        "search_tree = delete(search_tree, 7)\n",
        "print(\"Inorder traversal of the modified tree\")\n",
        "inorder(search_tree)\n",
        "print_tree(search_tree)"
      ],
      "metadata": {
        "colab": {
          "base_uri": "https://localhost:8080/",
          "height": 728
        },
        "id": "V8Ao5R0C0xLl",
        "outputId": "bc75b1e9-9589-4e5f-c872-30addfc3f2e8"
      },
      "execution_count": null,
      "outputs": [
        {
          "output_type": "stream",
          "name": "stdout",
          "text": [
            "Inorder traversal of the given tree\n",
            "5 6 7 10 12 13 15 18 22 "
          ]
        },
        {
          "output_type": "display_data",
          "data": {
            "text/plain": [
              "<Figure size 432x288 with 1 Axes>"
            ],
            "image/png": "[encoded data removed]"
          },
          "metadata": {}
        },
        {
          "output_type": "stream",
          "name": "stdout",
          "text": [
            "\n",
            "Delete\n",
            "Inorder traversal of the modified tree\n",
            "5 6 10 12 13 15 18 22 "
          ]
        },
        {
          "output_type": "display_data",
          "data": {
            "text/plain": [
              "<Figure size 432x288 with 1 Axes>"
            ],
            "image/png": "[encoded data removed]"
          },
          "metadata": {}
        }
      ]
    },
    {
      "cell_type": "markdown",
      "source": [
        "## Comparing running time"
      ],
      "metadata": {
        "id": "R3KqIcLzJOY1"
      }
    },
    {
      "cell_type": "code",
      "source": [
        "search_tree = Node(12)\n",
        "list_of_items = ItemsList()\n",
        "list_of_items.append(12)"
      ],
      "metadata": {
        "id": "Nlo32rT4lMWV"
      },
      "execution_count": null,
      "outputs": []
    },
    {
      "cell_type": "code",
      "source": [
        "values = set([randrange(-5000, 5000) for _ in range(500)])\n",
        "for value in values:\n",
        "  search_tree = insert(search_tree, value)\n",
        "  list_of_items.append(value)"
      ],
      "metadata": {
        "id": "ouD4VwBcliiV"
      },
      "execution_count": null,
      "outputs": []
    },
    {
      "cell_type": "code",
      "source": [
        "list_total_time = 0\n",
        "tree_total_time = 0\n",
        "for _ in range(100):\n",
        "  value = randrange(-1000, 1000)\n",
        "  response_list = list_of_items.search(value)\n",
        "  response_tree = time_spent_decorator(search)(search_tree, value)\n",
        "  if response_list[0] != getattr(response_tree[0], 'key', None):\n",
        "    print(f'Error for value {value}: {response_list} != {response_tree}')\n",
        "    break\n",
        "  else:\n",
        "    list_total_time += response_list[1]\n",
        "    tree_total_time += response_tree[1]\n",
        "print(tree_total_time / list_total_time)"
      ],
      "metadata": {
        "id": "IMTH3ALoewVf",
        "colab": {
          "base_uri": "https://localhost:8080/"
        },
        "outputId": "60382b72-a8c2-47fd-e34e-5016c440f0de"
      },
      "execution_count": null,
      "outputs": [
        {
          "output_type": "stream",
          "name": "stdout",
          "text": [
            "0.6621925763651164\n"
          ]
        }
      ]
    }
  ]
}