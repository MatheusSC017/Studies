{
  "nbformat": 4,
  "nbformat_minor": 0,
  "metadata": {
    "colab": {
      "provenance": [],
      "authorship_tag": "ABX9TyNyktmZxS2quhGC4WSiWi6Q",
      "include_colab_link": true
    },
    "kernelspec": {
      "name": "python3",
      "display_name": "Python 3"
    },
    "language_info": {
      "name": "python"
    }
  },
  "cells": [
    {
      "cell_type": "markdown",
      "metadata": {
        "id": "view-in-github",
        "colab_type": "text"
      },
      "source": [
        "<a href=\"https://colab.research.google.com/github/MatheusSC017/Studies/blob/main/Basic_Structures.ipynb\" target=\"_parent\"><img src=\"https://colab.research.google.com/assets/colab-badge.svg\" alt=\"Open In Colab\"/></a>"
      ]
    },
    {
      "cell_type": "markdown",
      "source": [
        "## Linked Lists"
      ],
      "metadata": {
        "id": "rSuXslYaHz3-"
      }
    },
    {
      "cell_type": "markdown",
      "source": [
        "### Simple Linked List\n"
      ],
      "metadata": {
        "id": "I4dCbKx8YFWu"
      }
    },
    {
      "cell_type": "code",
      "source": [
        "class Node:\n",
        "    def __init__(self, data):\n",
        "        self.next = None\n",
        "        self.data = data"
      ],
      "metadata": {
        "id": "Yi3PWXTZVKg_"
      },
      "execution_count": null,
      "outputs": []
    },
    {
      "cell_type": "code",
      "source": [
        "class LinkedList:\n",
        "    def __init__(self):\n",
        "        self.head = None\n",
        "        self.tail = None\n",
        "\n",
        "    def append(self, node):\n",
        "        if self.head is None:\n",
        "            self.head = node\n",
        "            self.tail = node\n",
        "            return\n",
        "\n",
        "        self.tail.next = node\n",
        "        self.tail = node\n",
        "\n",
        "    def  delete(self, node):\n",
        "      prev_node = None\n",
        "      current = self.head\n",
        "      while current:\n",
        "          if current == node:\n",
        "              if prev_node:\n",
        "                  prev_node.next = current.next\n",
        "              else:\n",
        "                  self.head = current.next\n",
        "          prev_node = current\n",
        "          current = current.next\n",
        "\n",
        "\n",
        "    def search(self, target):\n",
        "        current = self.head\n",
        "        while current:\n",
        "            if current.data == target:\n",
        "                return current\n",
        "            current = current.next\n",
        "        return None"
      ],
      "metadata": {
        "id": "tRr_GsC7VQin"
      },
      "execution_count": null,
      "outputs": []
    },
    {
      "cell_type": "code",
      "source": [
        "my_list = LinkedList()\n",
        "for i in range(100):\n",
        "    my_list.append(Node(i))"
      ],
      "metadata": {
        "id": "M3829UvbW8mp"
      },
      "execution_count": null,
      "outputs": []
    },
    {
      "cell_type": "code",
      "source": [
        "my_list.search(27).data"
      ],
      "metadata": {
        "colab": {
          "base_uri": "https://localhost:8080/"
        },
        "id": "sVTZoIZXXd7n",
        "outputId": "84ed7ee7-43bf-4432-cf48-a572b5d27b66"
      },
      "execution_count": null,
      "outputs": [
        {
          "output_type": "execute_result",
          "data": {
            "text/plain": [
              "27"
            ]
          },
          "metadata": {},
          "execution_count": 14
        }
      ]
    },
    {
      "cell_type": "code",
      "source": [
        "node = my_list.search(27)\n",
        "my_list.delete(node)"
      ],
      "metadata": {
        "id": "Mj2_F5qXXpPv"
      },
      "execution_count": null,
      "outputs": []
    },
    {
      "cell_type": "code",
      "source": [
        "node = my_list.head\n",
        "while node.next:\n",
        "    print(node.data)\n",
        "    node = node.next"
      ],
      "metadata": {
        "id": "QTTiyw_nX24W"
      },
      "execution_count": null,
      "outputs": []
    },
    {
      "cell_type": "markdown",
      "source": [
        "### Double Linked List"
      ],
      "metadata": {
        "id": "S4N4TVxxU8MH"
      }
    },
    {
      "cell_type": "code",
      "execution_count": null,
      "metadata": {
        "id": "ky8A5y44LwnQ"
      },
      "outputs": [],
      "source": [
        "class Node:\n",
        "    def __init__(self, data):\n",
        "        self.previous = None\n",
        "        self.next = None\n",
        "        self.data = data"
      ]
    },
    {
      "cell_type": "code",
      "source": [
        "class DoubleLinkedList:\n",
        "    def __init__(self):\n",
        "        self.head = None\n",
        "        self.tail = None\n",
        "\n",
        "    def append(self, node):\n",
        "        node.next = self.head\n",
        "        if self.head:\n",
        "            self.head.prev = node\n",
        "\n",
        "        self.head = node\n",
        "        node.prev = None\n",
        "\n",
        "    def  delete(self, node):\n",
        "      if node.prev is not None:\n",
        "          node.prev.next = node.next\n",
        "      else:\n",
        "          self.head = node.next\n",
        "\n",
        "      if node.next is not None:\n",
        "          node.next.prev = node.prev\n",
        "\n",
        "    def search(self, target):\n",
        "        current = self.head\n",
        "        while current:\n",
        "            if current.data == target:\n",
        "                return current\n",
        "            current = current.next\n",
        "        return None"
      ],
      "metadata": {
        "id": "1BogcMZ0w-mZ"
      },
      "execution_count": null,
      "outputs": []
    },
    {
      "cell_type": "code",
      "source": [
        "my_list = DoubleLinkedList()\n",
        "for i in range(100):\n",
        "    my_list.append(Node(i))"
      ],
      "metadata": {
        "id": "8vzpT4hnzvWx"
      },
      "execution_count": null,
      "outputs": []
    },
    {
      "cell_type": "code",
      "source": [
        "my_list.search(52).data"
      ],
      "metadata": {
        "colab": {
          "base_uri": "https://localhost:8080/"
        },
        "id": "Wi4rqMOK0BBZ",
        "outputId": "a199c9e8-389f-41b8-970f-1917c5fafa9a"
      },
      "execution_count": null,
      "outputs": [
        {
          "output_type": "execute_result",
          "data": {
            "text/plain": [
              "52"
            ]
          },
          "metadata": {},
          "execution_count": 21
        }
      ]
    },
    {
      "cell_type": "markdown",
      "source": [
        "### Circular Linked List"
      ],
      "metadata": {
        "id": "TwH3rJMGVAVw"
      }
    },
    {
      "cell_type": "markdown",
      "source": [
        "## Stacks"
      ],
      "metadata": {
        "id": "UnyU6gsDUzMn"
      }
    },
    {
      "cell_type": "markdown",
      "source": [
        "## Queues\n"
      ],
      "metadata": {
        "id": "-LStFY0HU1Wm"
      }
    }
  ]
}