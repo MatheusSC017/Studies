{
  "nbformat": 4,
  "nbformat_minor": 0,
  "metadata": {
    "colab": {
      "provenance": [],
      "collapsed_sections": [
        "lLwzCwICp_Wm"
      ],
      "authorship_tag": "ABX9TyM4xVymtk/xJPIKSXKRt3aO",
      "include_colab_link": true
    },
    "kernelspec": {
      "name": "python3",
      "display_name": "Python 3"
    },
    "language_info": {
      "name": "python"
    }
  },
  "cells": [
    {
      "cell_type": "markdown",
      "metadata": {
        "id": "view-in-github",
        "colab_type": "text"
      },
      "source": [
        "<a href=\"https://colab.research.google.com/github/MatheusSC017/Studies/blob/main/BinarySearchTree.ipynb\" target=\"_parent\"><img src=\"https://colab.research.google.com/assets/colab-badge.svg\" alt=\"Open In Colab\"/></a>"
      ]
    },
    {
      "cell_type": "markdown",
      "source": [
        "# Library and Help Functions"
      ],
      "metadata": {
        "id": "FlQ3LrCOg2zG"
      }
    },
    {
      "cell_type": "code",
      "source": [
        "from time import perf_counter\n",
        "from random import randrange\n",
        "\n",
        "def time_spent_decorator(function):\n",
        "  def time_spent_calculation(*args, **kwargs):\n",
        "    start = perf_counter()\n",
        "    result = function(*args, **kwargs)\n",
        "    end = perf_counter()\n",
        "    total_time_spent = end - start\n",
        "    return (result, total_time_spent)\n",
        "  return time_spent_calculation"
      ],
      "metadata": {
        "id": "BmDNgrnwckCh"
      },
      "execution_count": 1,
      "outputs": []
    },
    {
      "cell_type": "markdown",
      "source": [
        "# Binary Tree With While"
      ],
      "metadata": {
        "id": "ii9cxr1agsOX"
      }
    },
    {
      "cell_type": "code",
      "source": [
        "class GFG:\n",
        "  def __init__(self):\n",
        "    self.bst = BST()\n",
        "\n",
        "  def insert(self, value):\n",
        "    self.bst.insert(value)\n",
        "  \n",
        "  def inorder(self):\n",
        "    self.bst.inorder()\n",
        "  \n",
        "  def search(self, value):\n",
        "    return self.bst.search(value)\n",
        "  \n",
        "  def delete(self, value):\n",
        "    self.bst.delete(value)\n",
        "\n",
        "class Node:\n",
        "  left_node = None\n",
        "  key = 0\n",
        "  right_node = None\n",
        "\n",
        "  def __init__(self, key):\n",
        "    self.key = key\n",
        "\n",
        "class BST:\n",
        "  root = None\n",
        "\n",
        "  def insert(self, value):\n",
        "    node = Node(value)\n",
        "    if self.root is None:\n",
        "      self.root = node\n",
        "      return\n",
        "    prev = None\n",
        "    temp = self.root\n",
        "    while temp is not None:\n",
        "      if temp.key < value:\n",
        "        prev = temp\n",
        "        temp = temp.right_node\n",
        "      elif temp.key > value:\n",
        "        prev = temp\n",
        "        temp = temp.left_node\n",
        "      else:\n",
        "        return\n",
        "    if prev.key < value:\n",
        "      prev.right_node = node\n",
        "    else:\n",
        "      prev.left_node = node\n",
        "\n",
        "  def inorder(self):\n",
        "    temp = self.root\n",
        "    stack = []\n",
        "    while temp is not None or len(stack) != 0:\n",
        "      if temp is not None:\n",
        "        stack.append(temp)\n",
        "        temp = temp.left_node\n",
        "      else:\n",
        "        temp = stack.pop()\n",
        "        print(temp.key, end=\" \")\n",
        "        temp =  temp.right_node\n",
        "\n",
        "  @time_spent_decorator\n",
        "  def search(self, value):\n",
        "    temp = self.root\n",
        "    while temp:\n",
        "      if temp.key == value:\n",
        "        return temp\n",
        "      elif temp.key < value:\n",
        "        temp = temp.right_node\n",
        "      else:\n",
        "        temp = temp.left_node\n",
        "    return temp\n",
        "  \n",
        "  def next_inorder_node(self, root):\n",
        "    temp = root\n",
        "    while temp.left_node is not None:\n",
        "      temp = temp.left_node\n",
        "    return temp.key\n",
        "\n",
        "  def delete(self, value):\n",
        "    prev = None\n",
        "    node = None\n",
        "    temp = self.root\n",
        "    while temp:\n",
        "      if temp.key < value:\n",
        "        prev, node = temp, 'right_node'\n",
        "        temp = temp.right_node\n",
        "\n",
        "      elif temp.key > value:\n",
        "        prev, node = temp, 'left_node'\n",
        "        temp = temp.left_node\n",
        "      \n",
        "      else:\n",
        "        if temp.right_node is None:\n",
        "          setattr(prev, node, temp.left_node)\n",
        "          return\n",
        "\n",
        "        if temp.left_node is None:\n",
        "          setattr(prev, node, temp.right_node)\n",
        "          return\n",
        "\n",
        "        next_node = self.next_inorder_node(temp.right_node) \n",
        "        if temp.key < next_node:\n",
        "          prev, node = temp, 'right_node'\n",
        "          temp = temp.right_node\n",
        "        else:\n",
        "          prev, node = temp, 'left_node'\n",
        "          temp = temp.left_node\n",
        "        value = next_node\n",
        "        prev.key = next_node"
      ],
      "metadata": {
        "id": "qblr8SBCg0Nl"
      },
      "execution_count": 59,
      "outputs": []
    },
    {
      "cell_type": "code",
      "source": [
        "class ItemsList:\n",
        "  def __init__(self):\n",
        "    self.items = list()\n",
        "  \n",
        "  def append(self, value):\n",
        "    if not self.search(value)[0]:\n",
        "      self.items.append(value)\n",
        "  \n",
        "  @time_spent_decorator\n",
        "  def search(self, value):\n",
        "    for item in self.items:\n",
        "      if item == value:\n",
        "        return value\n",
        "    return None"
      ],
      "metadata": {
        "id": "GdObp63ZfI-A"
      },
      "execution_count": null,
      "outputs": []
    },
    {
      "cell_type": "markdown",
      "source": [
        "## Sorting a search tree"
      ],
      "metadata": {
        "id": "E_snlaugI-w_"
      }
    },
    {
      "cell_type": "code",
      "source": [
        "tree = GFG()\n",
        "#values = list({randrange(0, 100) for _ in range(20)})\n",
        "values = [32, 64, 34, 66, 73, 74, 41, 76, 15, 13, 78, 16, 50, 87, 23, 89, 29, 95]\n",
        "for value in values:\n",
        "  tree.insert(value)\n",
        "print(\"Original list: \", values)\n",
        "values.sort()\n",
        "print(\"Ordered list: \", values)\n",
        "print(\"Ordered Tree: \", end=\"\")\n",
        "tree.inorder()"
      ],
      "metadata": {
        "colab": {
          "base_uri": "https://localhost:8080/"
        },
        "id": "yh0O2mOENSbV",
        "outputId": "d762ae54-cf6c-43ea-ff91-cae7f16a4829"
      },
      "execution_count": null,
      "outputs": [
        {
          "output_type": "stream",
          "name": "stdout",
          "text": [
            "Original list:  [32, 64, 34, 66, 73, 74, 41, 76, 15, 13, 78, 16, 50, 87, 23, 89, 29, 95]\n",
            "Ordered list:  [13, 15, 16, 23, 29, 32, 34, 41, 50, 64, 66, 73, 74, 76, 78, 87, 89, 95]\n",
            "Ordered Tree: 13 15 16 23 29 32 34 41 50 64 66 73 74 76 78 87 89 95 "
          ]
        }
      ]
    },
    {
      "cell_type": "markdown",
      "source": [
        "## Deleting a node"
      ],
      "metadata": {
        "id": "J7ubO1tkIyv_"
      }
    },
    {
      "cell_type": "code",
      "source": [
        "search_tree = GFG()\n",
        "search_tree.insert(12)\n",
        "search_tree.insert(15)\n",
        "search_tree.insert(7)\n",
        "search_tree.insert(5)\n",
        "search_tree.insert(18)\n",
        "search_tree.insert(22)\n",
        "search_tree.insert(6)\n",
        "search_tree.insert(10)\n",
        "search_tree.insert(13)\n",
        "\n",
        "print(\"Inorder traversal of the given tree\")\n",
        "search_tree.inorder()\n",
        "print(\"\\nDelete\")\n",
        "search_tree.delete(12)\n",
        "print(\"Inorder traversal of the modified tree\")\n",
        "search_tree.inorder()"
      ],
      "metadata": {
        "colab": {
          "base_uri": "https://localhost:8080/"
        },
        "id": "lWpuH5YMHiU1",
        "outputId": "88e0e4fb-5240-4f2a-b7c8-9581709d22cc"
      },
      "execution_count": 71,
      "outputs": [
        {
          "output_type": "stream",
          "name": "stdout",
          "text": [
            "Inorder traversal of the given tree\n",
            "5 6 7 10 12 13 15 18 22 \n",
            "Delete\n",
            "Inorder traversal of the modified tree\n",
            "5 6 7 10 13 15 18 22 "
          ]
        }
      ]
    },
    {
      "cell_type": "markdown",
      "source": [
        "## Comparing running time"
      ],
      "metadata": {
        "id": "pQcQwyGmIw24"
      }
    },
    {
      "cell_type": "code",
      "source": [
        "search_tree = GFG()\n",
        "list_of_items = ItemsList()\n",
        "search_tree.insert(500)\n",
        "list_of_items.append(500)"
      ],
      "metadata": {
        "id": "rSNVcNZ9n9HM"
      },
      "execution_count": null,
      "outputs": []
    },
    {
      "cell_type": "code",
      "source": [
        "values = set([randrange(0, 5000) for _ in range(200)])\n",
        "for value in values:\n",
        "  search_tree.insert(value)\n",
        "  list_of_items.append(value)"
      ],
      "metadata": {
        "id": "C1CCUbG7oMU7"
      },
      "execution_count": null,
      "outputs": []
    },
    {
      "cell_type": "code",
      "source": [
        "list_total_time = 0\n",
        "tree_total_time = 0\n",
        "for _ in range(200):\n",
        "  value = randrange(0, 5000)\n",
        "  response_list = list_of_items.search(value)\n",
        "  response_tree = search_tree.search(value)\n",
        "  if response_list[0] != getattr(response_tree[0], 'key', None):\n",
        "    print(f'Error for value {value}: {response_list} != {response_tree}')\n",
        "    break\n",
        "  else:\n",
        "    list_total_time += response_list[1]\n",
        "    tree_total_time += response_tree[1]\n",
        "print(tree_total_time / list_total_time)"
      ],
      "metadata": {
        "colab": {
          "base_uri": "https://localhost:8080/"
        },
        "id": "pXIxCn81oddB",
        "outputId": "878599ba-a902-4a52-9d6f-17f40bfb0a10"
      },
      "execution_count": null,
      "outputs": [
        {
          "output_type": "stream",
          "name": "stdout",
          "text": [
            "0.3563779986005244\n"
          ]
        }
      ]
    },
    {
      "cell_type": "markdown",
      "source": [
        "# Binary Tree With Recursion"
      ],
      "metadata": {
        "id": "lLwzCwICp_Wm"
      }
    },
    {
      "cell_type": "code",
      "execution_count": null,
      "metadata": {
        "id": "g7p_bK4Xh2nj"
      },
      "outputs": [],
      "source": [
        "class Node:\n",
        "  left_node = None\n",
        "  key = 0\n",
        "  right_node = None\n",
        "\n",
        "  def __init__(self, key):\n",
        "    self.key = key\n",
        "\n",
        "def insert(root, new_value):\n",
        "  if root is None:\n",
        "    return Node(new_value)\n",
        "  else: \n",
        "    if root.key == new_value:\n",
        "      return root\n",
        "    elif root.key < new_value:\n",
        "      root.right_node = insert(root.right_node, new_value)\n",
        "    else:\n",
        "      root.left_node = insert(root.left_node, new_value)\n",
        "  return root\n",
        "\n",
        "def search(root, value):\n",
        "  if root is None or root.key == value:\n",
        "    return root\n",
        "  elif root.key < value:\n",
        "    return search(root.right_node, value)\n",
        "  else:\n",
        "    return search(root.left_node, value)\n",
        "\n",
        "def inorder(root):\n",
        "  if root:\n",
        "    inorder(root.left_node)\n",
        "    print(root.key, end =\" \")\n",
        "    inorder(root.right_node)\n",
        "\n",
        "def min(root):\n",
        "  if root.left_node:\n",
        "    return min(root.left_node)\n",
        "  return root.key\n",
        "\n",
        "def delete(root, value):\n",
        "  if root is None:\n",
        "    return root\n",
        "\n",
        "  else:\n",
        "    if root.key < value:\n",
        "      root.right_node = delete(root.right_node, value)\n",
        "\n",
        "    elif root.key > value:\n",
        "      root.left_node = delete(root.left_node, value)\n",
        "\n",
        "    else:\n",
        "      if root.left_node is None:\n",
        "        return root.right_node\n",
        "      \n",
        "      if root.right_node is None:\n",
        "        return root.left_node\n",
        "\n",
        "      inorder_value = min(root.right_node)\n",
        "      root.key = inorder_value\n",
        "      root.right_node = delete(root.right_node, inorder_value)\n",
        "      return root\n",
        "\n",
        "    \n",
        "  return root"
      ]
    },
    {
      "cell_type": "markdown",
      "source": [
        "## Sorting a search tree"
      ],
      "metadata": {
        "id": "v_J9CB_2JJkO"
      }
    },
    {
      "cell_type": "code",
      "source": [
        "inorder(search_tree)"
      ],
      "metadata": {
        "colab": {
          "base_uri": "https://localhost:8080/"
        },
        "id": "TfxEhKZJ-j2r",
        "outputId": "a124a9cf-2d39-4b0c-8b94-fce681bee704"
      },
      "execution_count": null,
      "outputs": [
        {
          "output_type": "stream",
          "name": "stdout",
          "text": [
            "-4972 -4970 -4963 -4939 -4934 -4915 -4914 -4899 -4799 -4792 -4776 -4764 -4692 -4685 -4668 -4645 -4641 -4640 -4625 -4604 -4602 -4594 -4562 -4547 -4536 -4519 -4516 -4498 -4496 -4485 -4477 -4454 -4451 -4448 -4444 -4442 -4434 -4426 -4425 -4422 -4379 -4373 -4296 -4276 -4270 -4227 -4207 -4201 -4181 -4157 -4155 -4153 -4151 -4148 -4141 -4132 -4075 -4073 -4022 -4020 -4014 -4010 -4003 -3986 -3978 -3967 -3945 -3944 -3941 -3922 -3904 -3874 -3868 -3867 -3855 -3818 -3812 -3809 -3780 -3740 -3707 -3701 -3695 -3652 -3634 -3592 -3550 -3538 -3516 -3503 -3427 -3424 -3374 -3373 -3341 -3336 -3316 -3258 -3243 -3228 -3217 -3204 -3198 -3135 -3110 -3095 -3064 -3038 -2990 -2927 -2896 -2871 -2861 -2846 -2845 -2840 -2839 -2806 -2784 -2770 -2758 -2719 -2686 -2672 -2671 -2645 -2613 -2602 -2579 -2574 -2550 -2544 -2533 -2501 -2492 -2465 -2464 -2462 -2459 -2438 -2416 -2413 -2406 -2396 -2392 -2372 -2347 -2334 -2333 -2314 -2274 -2271 -2262 -2206 -2168 -2159 -2158 -2145 -2099 -2078 -2061 -2057 -2019 -1990 -1986 -1979 -1928 -1900 -1899 -1882 -1861 -1860 -1781 -1772 -1770 -1762 -1731 -1724 -1720 -1704 -1694 -1680 -1652 -1629 -1613 -1565 -1511 -1508 -1501 -1497 -1462 -1454 -1451 -1447 -1423 -1411 -1355 -1351 -1332 -1306 -1264 -1256 -1238 -1184 -1174 -1172 -1165 -1139 -1126 -1112 -1107 -1103 -1085 -1073 -1072 -1062 -987 -983 -969 -947 -933 -917 -861 -826 -816 -807 -789 -746 -726 -716 -702 -695 -682 -677 -670 -654 -651 -639 -546 -521 -492 -488 -485 -469 -457 -446 -420 -399 -396 -395 -390 -366 -341 -329 -327 -326 -311 -301 -280 -228 -177 -171 -127 -114 -75 -34 -31 -12 -4 12 29 37 57 62 75 92 99 199 228 233 240 248 320 376 381 481 504 528 584 670 671 697 707 708 721 724 755 762 793 835 841 884 886 891 918 951 956 1007 1015 1018 1041 1046 1071 1099 1122 1134 1150 1166 1170 1197 1201 1203 1303 1379 1386 1476 1496 1502 1512 1538 1549 1578 1587 1624 1625 1635 1698 1755 1760 1768 1785 1814 1864 1871 1880 1883 1893 1946 1957 1993 2016 2027 2049 2051 2067 2103 2108 2165 2173 2189 2203 2207 2214 2252 2272 2274 2296 2297 2326 2339 2391 2407 2423 2451 2453 2469 2529 2539 2567 2570 2612 2627 2643 2661 2667 2685 2703 2745 2771 2788 2800 2834 2909 2920 2950 2973 2974 2978 3061 3083 3106 3127 3164 3186 3188 3192 3214 3268 3295 3302 3332 3357 3389 3390 3421 3479 3496 3505 3515 3516 3527 3533 3537 3561 3622 3659 3702 3715 3757 3768 3783 3826 3833 3843 3852 3863 3883 3891 3913 3918 3927 3957 3969 3988 4043 4057 4099 4132 4153 4183 4184 4216 4223 4228 4246 4252 4264 4267 4300 4386 4420 4429 4482 4492 4551 4557 4575 4582 4598 4627 4647 4654 4657 4658 4663 4691 4713 4731 4744 4761 4850 4855 4867 4882 4898 4908 4930 4957 4965 4971 "
          ]
        }
      ]
    },
    {
      "cell_type": "markdown",
      "source": [
        "## Deleting a node"
      ],
      "metadata": {
        "id": "5ise1TBgJEXe"
      }
    },
    {
      "cell_type": "code",
      "source": [
        "search_tree = Node(12)\n",
        "search_tree = insert(search_tree, 15)\n",
        "search_tree = insert(search_tree, 7)\n",
        "search_tree = insert(search_tree, 12)\n",
        "search_tree = insert(search_tree, 5)\n",
        "search_tree = insert(search_tree, 18)\n",
        "search_tree = insert(search_tree, 22)\n",
        "search_tree = insert(search_tree, 6)\n",
        "search_tree = insert(search_tree, 10)\n",
        "search_tree = insert(search_tree, 13)\n",
        "\n",
        "print(\"Inorder traversal of the given tree\")\n",
        "inorder(search_tree)\n",
        "print(\"\\nDelete\")\n",
        "search_tree = delete(search_tree, 15)\n",
        "print(\"Inorder traversal of the modified tree\")\n",
        "inorder(search_tree)"
      ],
      "metadata": {
        "colab": {
          "base_uri": "https://localhost:8080/"
        },
        "id": "V8Ao5R0C0xLl",
        "outputId": "21dada87-0a18-4feb-deb3-dcd7e8a9bf11"
      },
      "execution_count": null,
      "outputs": [
        {
          "output_type": "stream",
          "name": "stdout",
          "text": [
            "5 6 7 10 12 13 15 18 22 \n",
            "5 6 7 10 12 13 18 22 "
          ]
        }
      ]
    },
    {
      "cell_type": "markdown",
      "source": [
        "## Comparing running time"
      ],
      "metadata": {
        "id": "R3KqIcLzJOY1"
      }
    },
    {
      "cell_type": "code",
      "source": [
        "search_tree = Node(12)\n",
        "list_of_items = ItemsList()\n",
        "list_of_items.append(12)"
      ],
      "metadata": {
        "id": "Nlo32rT4lMWV"
      },
      "execution_count": null,
      "outputs": []
    },
    {
      "cell_type": "code",
      "source": [
        "values = set([randrange(-5000, 5000) for _ in range(500)])\n",
        "for value in values:\n",
        "  search_tree = insert(search_tree, value)\n",
        "  list_of_items.append(value)"
      ],
      "metadata": {
        "id": "ouD4VwBcliiV"
      },
      "execution_count": null,
      "outputs": []
    },
    {
      "cell_type": "code",
      "source": [
        "list_total_time = 0\n",
        "tree_total_time = 0\n",
        "for _ in range(100):\n",
        "  value = randrange(-1000, 1000)\n",
        "  response_list = list_of_items.search(value)\n",
        "  response_tree = time_spent_decorator(search)(search_tree, value)\n",
        "  if response_list[0] != getattr(response_tree[0], 'key', None):\n",
        "    print(f'Error for value {value}: {response_list} != {response_tree}')\n",
        "    break\n",
        "  else:\n",
        "    list_total_time += response_list[1]\n",
        "    tree_total_time += response_tree[1]\n",
        "print(tree_total_time / list_total_time)"
      ],
      "metadata": {
        "id": "IMTH3ALoewVf",
        "colab": {
          "base_uri": "https://localhost:8080/"
        },
        "outputId": "60382b72-a8c2-47fd-e34e-5016c440f0de"
      },
      "execution_count": null,
      "outputs": [
        {
          "output_type": "stream",
          "name": "stdout",
          "text": [
            "0.6621925763651164\n"
          ]
        }
      ]
    }
  ]
}