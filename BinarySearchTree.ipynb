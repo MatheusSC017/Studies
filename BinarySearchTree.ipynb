{
  "nbformat": 4,
  "nbformat_minor": 0,
  "metadata": {
    "colab": {
      "provenance": [],
      "collapsed_sections": [
        "lLwzCwICp_Wm"
      ],
      "authorship_tag": "ABX9TyP5Zdk3FEF/GrkdOhYUAFEf",
      "include_colab_link": true
    },
    "kernelspec": {
      "name": "python3",
      "display_name": "Python 3"
    },
    "language_info": {
      "name": "python"
    }
  },
  "cells": [
    {
      "cell_type": "markdown",
      "metadata": {
        "id": "view-in-github",
        "colab_type": "text"
      },
      "source": [
        "<a href=\"https://colab.research.google.com/github/MatheusSC017/Studies/blob/main/BinarySearchTree.ipynb\" target=\"_parent\"><img src=\"https://colab.research.google.com/assets/colab-badge.svg\" alt=\"Open In Colab\"/></a>"
      ]
    },
    {
      "cell_type": "markdown",
      "source": [
        "# Library and Help Functions"
      ],
      "metadata": {
        "id": "FlQ3LrCOg2zG"
      }
    },
    {
      "cell_type": "code",
      "source": [
        "from time import perf_counter\n",
        "from random import randrange\n",
        "\n",
        "def time_spent_decorator(function):\n",
        "  def time_spent_calculation(*args, **kwargs):\n",
        "    start = perf_counter()\n",
        "    result = function(*args, **kwargs)\n",
        "    end = perf_counter()\n",
        "    total_time_spent = end - start\n",
        "    return (result, total_time_spent)\n",
        "  return time_spent_calculation"
      ],
      "metadata": {
        "id": "BmDNgrnwckCh"
      },
      "execution_count": 1,
      "outputs": []
    },
    {
      "cell_type": "markdown",
      "source": [
        "# Binary Tree With While"
      ],
      "metadata": {
        "id": "ii9cxr1agsOX"
      }
    },
    {
      "cell_type": "code",
      "source": [
        "class GFG:\n",
        "  def __init__(self):\n",
        "    self.bst = BST()\n",
        "\n",
        "  def insert(self, value):\n",
        "    self.bst.insert(value)\n",
        "  \n",
        "  def inorder(self):\n",
        "    self.bst.inorder()\n",
        "  \n",
        "  def search(self, value):\n",
        "    return self.bst.search(value)\n",
        "\n",
        "class Node:\n",
        "  left_node = None\n",
        "  key = 0\n",
        "  right_node = None\n",
        "\n",
        "  def __init__(self, key):\n",
        "    self.key = key\n",
        "\n",
        "class BST:\n",
        "  root = None\n",
        "\n",
        "  def insert(self, value):\n",
        "    node = Node(value)\n",
        "    if self.root is None:\n",
        "      self.root = node\n",
        "      return\n",
        "    prev = None\n",
        "    temp = self.root\n",
        "    while temp is not None:\n",
        "      if temp.key < value:\n",
        "        prev = temp\n",
        "        temp = temp.right_node\n",
        "      elif temp.key > value:\n",
        "        prev = temp\n",
        "        temp = temp.left_node\n",
        "      else:\n",
        "        return\n",
        "    if prev.key < value:\n",
        "      prev.right_node = node\n",
        "    else:\n",
        "      prev.left_node = node\n",
        "\n",
        "  def inorder(self):\n",
        "    temp = self.root\n",
        "    stack = []\n",
        "    while temp is not None or len(stack) != 0:\n",
        "      if temp is not None:\n",
        "        stack.append(temp)\n",
        "        temp = temp.left_node\n",
        "      else:\n",
        "        temp = stack.pop()\n",
        "        print(temp.key, end=\" \")\n",
        "        temp =  temp.right_node\n",
        "\n",
        "  @time_spent_decorator\n",
        "  def search(self, value):\n",
        "    temp = self.root\n",
        "    while temp:\n",
        "      if temp.key == value:\n",
        "        return True\n",
        "      elif temp.key < value:\n",
        "        temp = temp.right_node\n",
        "      else:\n",
        "        temp = temp.left_node\n",
        "    return False"
      ],
      "metadata": {
        "id": "qblr8SBCg0Nl"
      },
      "execution_count": 2,
      "outputs": []
    },
    {
      "cell_type": "code",
      "source": [
        "class ItemsList:\n",
        "  def __init__(self):\n",
        "    self.items = list()\n",
        "  \n",
        "  def append(self, value):\n",
        "    if not self.search(value)[0]:\n",
        "      self.items.append(value)\n",
        "  \n",
        "  @time_spent_decorator\n",
        "  def search(self, value):\n",
        "    for item in self.items:\n",
        "      if item == value:\n",
        "        return True\n",
        "    return False"
      ],
      "metadata": {
        "id": "GdObp63ZfI-A"
      },
      "execution_count": 3,
      "outputs": []
    },
    {
      "cell_type": "code",
      "source": [
        "tree = GFG()\n",
        "#values = list({randrange(0, 100) for _ in range(20)})\n",
        "values = [32, 64, 34, 66, 73, 74, 41, 76, 15, 13, 78, 16, 50, 87, 23, 89, 29, 95]\n",
        "for value in values:\n",
        "  tree.insert(value)\n",
        "print(\"Original list: \", values)\n",
        "values.sort()\n",
        "print(\"Ordered list: \", values)\n",
        "print(\"Ordered Tree: \", end=\"\")\n",
        "tree.inorder()"
      ],
      "metadata": {
        "colab": {
          "base_uri": "https://localhost:8080/"
        },
        "id": "yh0O2mOENSbV",
        "outputId": "67f81e7d-e271-4eb5-d961-d27513dffd97"
      },
      "execution_count": 4,
      "outputs": [
        {
          "output_type": "stream",
          "name": "stdout",
          "text": [
            "Original list:  [32, 64, 34, 66, 73, 74, 41, 76, 15, 13, 78, 16, 50, 87, 23, 89, 29, 95]\n",
            "Ordered list:  [13, 15, 16, 23, 29, 32, 34, 41, 50, 64, 66, 73, 74, 76, 78, 87, 89, 95]\n",
            "Ordered Tree: 13 15 16 23 29 32 34 41 50 64 66 73 74 76 78 87 89 95 "
          ]
        }
      ]
    },
    {
      "cell_type": "code",
      "source": [
        "search_tree = GFG()\n",
        "list_of_items = ItemsList()\n",
        "search_tree.insert(500)\n",
        "list_of_items.append(500)"
      ],
      "metadata": {
        "id": "rSNVcNZ9n9HM"
      },
      "execution_count": 46,
      "outputs": []
    },
    {
      "cell_type": "code",
      "source": [
        "values = set([randrange(0, 5000) for _ in range(200)])\n",
        "for value in values:\n",
        "  search_tree.insert(value)\n",
        "  list_of_items.append(value)"
      ],
      "metadata": {
        "id": "C1CCUbG7oMU7"
      },
      "execution_count": 47,
      "outputs": []
    },
    {
      "cell_type": "code",
      "source": [
        "list_total_time = 0\n",
        "tree_total_time = 0\n",
        "for _ in range(200):\n",
        "  value = randrange(0, 5000)\n",
        "  response_list = list_of_items.search(value)\n",
        "  response_tree = search_tree.search(value)\n",
        "  if response_list[0] != response_tree[0]:\n",
        "    print(f'Error for value {value}: {response_list} != {response_tree}')\n",
        "    break\n",
        "  else:\n",
        "    list_total_time += response_list[1]\n",
        "    tree_total_time += response_tree[1]\n",
        "print(tree_total_time / list_total_time)"
      ],
      "metadata": {
        "colab": {
          "base_uri": "https://localhost:8080/"
        },
        "id": "pXIxCn81oddB",
        "outputId": "e27a8772-c398-4569-f6d9-67d0ab79fd25"
      },
      "execution_count": 58,
      "outputs": [
        {
          "output_type": "stream",
          "name": "stdout",
          "text": [
            "0.1553492124683877\n"
          ]
        }
      ]
    },
    {
      "cell_type": "markdown",
      "source": [
        "# Binary Tree With Recursion"
      ],
      "metadata": {
        "id": "lLwzCwICp_Wm"
      }
    },
    {
      "cell_type": "code",
      "execution_count": null,
      "metadata": {
        "id": "g7p_bK4Xh2nj"
      },
      "outputs": [],
      "source": [
        "class Node:\n",
        "  left_node = None\n",
        "  key = 0\n",
        "  right_node = None\n",
        "\n",
        "  def __init__(self, key):\n",
        "    self.key = key\n",
        "\n",
        "def insert(root, new_value):\n",
        "  if root is None:\n",
        "    return Node(new_value)\n",
        "  else: \n",
        "    if root.key == new_value:\n",
        "      return\n",
        "    elif root.key < new_value:\n",
        "      root.right_node = insert(root.right_node, new_value)\n",
        "    else:\n",
        "      root.left_node = insert(root.left_node, new_value)\n",
        "  return root\n",
        "\n",
        "def search(root, value):\n",
        "  if root is None:\n",
        "    return False\n",
        "  else:\n",
        "    if root.key == value:\n",
        "      return True\n",
        "    elif root.key < value:\n",
        "      return search(root.right_node, value)\n",
        "    else:\n",
        "      return search(root.left_node, value)\n",
        "\n",
        "def inorder(root):\n",
        "  if root:\n",
        "    inorder(root.left_node)\n",
        "    print(root.key, end =\" \")\n",
        "    inorder(root.right_node)"
      ]
    },
    {
      "cell_type": "code",
      "source": [
        "search_tree = Node(12)\n",
        "list_of_items = ItemsList()\n",
        "list_of_items.append(12)"
      ],
      "metadata": {
        "id": "Nlo32rT4lMWV"
      },
      "execution_count": null,
      "outputs": []
    },
    {
      "cell_type": "code",
      "source": [
        "values = set([randrange(-5000, 5000) for _ in range(500)])\n",
        "for value in values:\n",
        "  search_tree = insert(search_tree, value)\n",
        "  list_of_items.append(value)"
      ],
      "metadata": {
        "id": "ouD4VwBcliiV"
      },
      "execution_count": null,
      "outputs": []
    },
    {
      "cell_type": "code",
      "source": [
        "list_total_time = 0\n",
        "tree_total_time = 0\n",
        "for _ in range(100):\n",
        "  value = randrange(-1000, 1000)\n",
        "  response_list = list_of_items.search(value)\n",
        "  response_tree = time_spent_decorator(search)(search_tree, value)\n",
        "  if response_list[0] != response_tree[0]:\n",
        "    print(f'Error for value {value}: {response_list} != {response_tree}')\n",
        "    break\n",
        "  else:\n",
        "    list_total_time += response_list[1]\n",
        "    tree_total_time += response_tree[1]\n",
        "print(tree_total_time / list_total_time)"
      ],
      "metadata": {
        "id": "IMTH3ALoewVf",
        "colab": {
          "base_uri": "https://localhost:8080/"
        },
        "outputId": "33863cb6-2275-4b1b-b3cb-be15ba26ca4d"
      },
      "execution_count": null,
      "outputs": [
        {
          "output_type": "stream",
          "name": "stdout",
          "text": [
            "0.6388913103210228\n"
          ]
        }
      ]
    },
    {
      "cell_type": "code",
      "source": [
        "inorder(search_tree)"
      ],
      "metadata": {
        "colab": {
          "base_uri": "https://localhost:8080/"
        },
        "id": "TfxEhKZJ-j2r",
        "outputId": "88e2150c-10d5-43c4-c465-8faa1ce09b05"
      },
      "execution_count": null,
      "outputs": [
        {
          "output_type": "stream",
          "name": "stdout",
          "text": [
            "-4998 -4989 -4976 -4975 -4943 -4909 -4905 -4848 -4844 -4840 -4834 -4768 -4763 -4761 -4708 -4707 -4701 -4698 -4644 -4637 -4620 -4591 -4551 -4369 -4347 -4320 -4301 -4299 -4219 -4206 -4192 -4136 -4105 -4085 -4076 -4062 -4050 -4044 -4026 -4014 -4004 -3938 -3916 -3879 -3858 -3839 -3824 -3763 -3759 -3677 -3667 -3653 -3643 -3631 -3601 -3597 -3558 -3550 -3535 -3530 -3520 -3489 -3462 -3428 -3421 -3392 -3380 -3355 -3353 -3276 -3275 -3207 -3197 -3189 -3187 -3150 -3137 -3089 -3088 -3083 -3077 -3067 -3058 -3038 -3023 -2996 -2991 -2983 -2935 -2909 -2877 -2874 -2817 -2803 -2779 -2723 -2715 -2684 -2656 -2655 -2642 -2638 -2631 -2613 -2598 -2592 -2590 -2573 -2548 -2513 -2465 -2438 -2430 -2426 -2402 -2374 -2348 -2336 -2318 -2295 -2290 -2286 -2247 -2222 -2202 -2165 -2157 -2153 -2145 -2095 -2069 -1972 -1954 -1913 -1872 -1795 -1772 -1756 -1744 -1692 -1620 -1584 -1573 -1556 -1543 -1528 -1502 -1494 -1487 -1468 -1455 -1451 -1447 -1426 -1423 -1404 -1391 -1370 -1354 -1320 -1306 -1297 -1286 -1270 -1269 -1268 -1247 -1242 -1240 -1210 -1199 -1172 -1157 -1104 -1077 -1068 -1053 -1051 -1031 -994 -992 -985 -977 -973 -955 -922 -918 -898 -865 -848 -796 -778 -762 -745 -688 -670 -660 -631 -591 -518 -490 -448 -421 -407 -373 -356 -332 -260 -254 -244 -194 -177 -162 -157 -125 -124 -123 -114 -91 -21 -19 -7 6 12 21 46 47 70 78 93 101 145 151 155 186 229 254 262 270 301 323 334 335 342 364 380 409 411 439 495 500 501 538 596 600 623 629 631 635 649 653 659 660 698 716 718 727 753 757 780 817 887 895 900 926 944 963 1010 1015 1017 1037 1049 1050 1056 1120 1145 1166 1230 1240 1249 1274 1275 1287 1292 1295 1297 1302 1312 1320 1363 1385 1397 1403 1407 1422 1446 1454 1486 1521 1522 1528 1551 1552 1580 1581 1593 1603 1613 1619 1625 1646 1661 1714 1730 1754 1755 1802 1824 1837 1853 1869 1883 1895 1898 1910 1918 1921 1961 1967 1971 2017 2110 2116 2122 2148 2156 2175 2211 2238 2249 2289 2290 2296 2302 2313 2366 2380 2385 2396 2403 2459 2474 2518 2538 2552 2565 2593 2613 2618 2620 2632 2649 2667 2671 2693 2707 2712 2720 2728 2737 2757 2809 2820 2859 2891 2895 2897 2904 2935 2947 2960 2971 2975 2983 3035 3040 3057 3060 3065 3076 3084 3087 3088 3133 3136 3217 3229 3247 3271 3300 3363 3377 3383 3398 3448 3450 3456 3466 3477 3522 3564 3615 3676 3715 3718 3763 3813 3892 3899 3900 3908 3958 3973 3989 3995 4001 4002 4014 4110 4125 4134 4175 4199 4235 4245 4247 4258 4269 4308 4336 4342 4369 4372 4380 4393 4399 4428 4458 4461 4469 4491 4506 4514 4573 4575 4578 4596 4611 4617 4623 4624 4653 4662 4685 4707 4715 4742 4767 4773 4778 4787 4793 4829 4841 4909 4976 "
          ]
        }
      ]
    }
  ]
}